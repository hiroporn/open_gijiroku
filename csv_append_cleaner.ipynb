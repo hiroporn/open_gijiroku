{
 "cells": [
  {
   "cell_type": "code",
   "execution_count": 3,
   "metadata": {},
   "outputs": [],
   "source": [
    "# htmlからcsvに変換後に実行するツール。\n",
    "# 全てのcsvを連結し、１年分にまとめる。\n",
    "# その後に不要な言葉を整理する。\n",
    "# 途中でミスっても良いように、処理は細切れにしています。"
   ]
  },
  {
   "cell_type": "code",
   "execution_count": null,
   "metadata": {},
   "outputs": [],
   "source": [
    "#coding: UTF-8\n",
    "\n",
    "# 出力されたCSVを連結する\n",
    "\n",
    "import pandas as pd\n",
    "import glob\n",
    "\n",
    "# フォルダ内のcsvファイルをリスト形式で取得のはず\n",
    "# ファイル名でソートする。初期のままだとソートされないため。\n",
    "csv_files = sorted(glob.glob('*.csv'))\n",
    "\n",
    "#読み込むファイルのリストを表示\n",
    "for a in csv_files:\n",
    "    print (a)\n",
    "\n",
    "# csvファイルの中身を追加していくリストを準備\n",
    "data_list = []\n",
    "\n",
    "# 読み込むファイルのリストを走っていく\n",
    "for file in csv_files:\n",
    "    data_list.append(pd.read_csv(file))\n",
    "\n",
    "# リストを全て行方向に連結\n",
    "# axis=0:行方向に連結、ソートする\n",
    "df =pd.concat(data_list, axis=0, sort=True)\n",
    "\n",
    "# いったん保存する。\n",
    "df.to_csv('All_議事録.csv', index=False)"
   ]
  },
  {
   "cell_type": "code",
   "execution_count": 250,
   "metadata": {},
   "outputs": [],
   "source": [
    "# 保存したcsvをデータフレームに読み込む\n",
    "df = pd.read_csv ('All_議事録.csv')\n",
    "\n",
    "# csvを読み込んだデータフレームを「文字列」に変換する\n",
    "df = df.applymap(str)\n",
    "\n",
    "#\"namae列\"の先頭の数字と：を削除する\n",
    "df[\"namae\"] = df[\"namae\"].replace(\"\\d{1,5}.\", \"\", regex=True).copy()\n",
    "\n",
    "# 発言内容に発言者が入っているため、列名'voice_re'の名前を正規表現で全て削除する。\n",
    "# 丸括弧の指定は要注意。最短で探すようにしないと、文の途中で不自然に切られてしまう。\n",
    "df['voice_re'] = df['voice_re'].str.replace('^◯.+?\\（.+?\\）', '', regex=True).copy()\n",
    "\n",
    "# 下記は臨時議会などで議長が決まっていないときは必要。\n",
    "df['voice_re'] = df['voice_re'].str.replace('^◯.+?議員', '', regex=True).copy()\n",
    "\n",
    "#発言した議員と、その内容が欲しい場合は、ここで終了。\n",
    "#さらに処理を進める場合は、次に進む。"
   ]
  },
  {
   "cell_type": "code",
   "execution_count": null,
   "metadata": {},
   "outputs": [],
   "source": [
    "# 議員と執行部の発言だけが欲しいときは、ココからの処理となる。\n",
    "# 議長の発言の列に、進行上の記号や結果が多いので、不要と判断。\n",
    "# ばっさりするので、使うときは要注意。\n",
    "# 議長の名前は\"直接\"入れる。(なぜか正規表現か効かない？？ため)\n",
    "df = df.loc[df['namae'] !='◯議長（郷内良治）']\n",
    "\n",
    "# 議長の発言を全て削除の動作しない。正規表現が間違っているかも？\n",
    "# 要改善のため残す\n",
    "#df_clean2 = df.loc[df['namae'] !='^◯議長.+?\\（.+?\\）'].copy()\n",
    "\n",
    "# 途中で確認してみる。\n",
    "print(df)"
   ]
  },
  {
   "cell_type": "code",
   "execution_count": 252,
   "metadata": {},
   "outputs": [],
   "source": [
    "# 臨時議長があるときは、ここでも削除の処理が必要。\n",
    "# 臨時議長の正規表現が失敗するため、議事録を読んで直接指定する。\n",
    "# 不要の場合は、飛ばしても可。\n",
    "df = df.loc[df['namae'] !='◯臨時議長（大沼宗彦）']"
   ]
  },
  {
   "cell_type": "code",
   "execution_count": 253,
   "metadata": {},
   "outputs": [],
   "source": [
    "# \n",
    "# 下記で出力するのは、議長を除いた発言のみ。(＝議員と執行部)\n",
    "df.to_csv('合体_voice_re_only.csv', columns=['voice_re'], header=False, index=False)"
   ]
  },
  {
   "cell_type": "code",
   "execution_count": 254,
   "metadata": {},
   "outputs": [],
   "source": [
    "# 発言の中で取り切れない記号があったので、ここで削除する。\n",
    "# pandasでは上手くいかないため、csvファイルで加工する。\n",
    "# ファイルの読み込み。\n",
    "with open('合体_voice_re_only.csv') as reader:\n",
    "    monyumonyu = reader.read()\n",
    "\n",
    "# 置換というか削除\n",
    "monyumonyu = monyumonyu.replace('─────────────────────○──────────────────────', '')\n",
    "\n",
    "# ファイルに書き出し\n",
    "with open('合体_voice_re_only_fixed.csv', 'w') as writer:\n",
    "    writer.write(monyumonyu)\n"
   ]
  },
  {
   "cell_type": "code",
   "execution_count": null,
   "metadata": {},
   "outputs": [],
   "source": [
    "# 下記は、試験的に失敗したモノ。次への構想として残しておく。\n",
    "# 先頭に全角空白5文字文の行を削除する。\n",
    "# 具体的には、「日程」「議案」などの区切りで、必ず全角空白５文字が頭に入っている。\n",
    "\n",
    "#import re\n",
    "# 読み込み元と書き出し先を同時にオープン\n",
    "#with open('合体_voice_re_only.csv') as reader, open('合体_voice_re_fixed.csv', 'w') as writer:\n",
    "    # 読み込み元の行ごとにイテレーション\n",
    "#    for line in reader:\n",
    "#        # 先頭に全角空白5文字文の行を削除する\n",
    "#        line2 = re.subn('^　{5}.*\\n', '', line)\n",
    "        #line3 = re.subn('^s[5].*\\n', '', line2)\n",
    "        # 結果の書き出し\n",
    "#        writer.write(line2)"
   ]
  }
 ],
 "metadata": {
  "interpreter": {
   "hash": "c20e01b14c52d7a5dd23503cf444a4af8f0c37d2b5868e2f310604174d30d66f"
  },
  "kernelspec": {
   "display_name": "Python 3.8.13 64-bit ('3.8.13')",
   "language": "python",
   "name": "python3"
  },
  "language_info": {
   "codemirror_mode": {
    "name": "ipython",
    "version": 3
   },
   "file_extension": ".py",
   "mimetype": "text/x-python",
   "name": "python",
   "nbconvert_exporter": "python",
   "pygments_lexer": "ipython3",
   "version": "3.8.12"
  },
  "orig_nbformat": 4
 },
 "nbformat": 4,
 "nbformat_minor": 2
}
