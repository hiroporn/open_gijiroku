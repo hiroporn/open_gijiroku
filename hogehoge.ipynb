{
 "cells": [
  {
   "cell_type": "code",
   "execution_count": null,
   "metadata": {},
   "outputs": [],
   "source": [
    "#coding: UTF-8\n",
    "\n",
    "from bs4 import BeautifulSoup\n",
    "import lxml\n",
    "import re\n",
    "import os\n",
    "import pandas as pd\n",
    "\n",
    "#hogehoge_file = 'hogehoge.html'\n",
    "\n",
    "soup = BeautifulSoup(open('hogehoge.html'), \"lxml\") \n",
    "\n",
    "#forで回す回数を、発言者に付いているタグから持ってくる。\n",
    "get_number = soup.find_all(class_ = 'page-text__number VoiceAnchor')\n",
    "\n",
    "#取得したテキストの入れ物を作る。カラムにも名前を付ける。\n",
    "df = pd.DataFrame({'namae':[], 'voice_re':[]})\n",
    "\n",
    "\n",
    "kaisu = 0\n",
    "#発言者のタグから回数を回す。\n",
    "#↓末尾の＋１しないと、「０」からの開始なので１個足りなくなるから付けてやる。\n",
    "for kaisu in range(len(get_number) +1):\n",
    "\n",
    "    try:    #エラーがあったら止まる(はず)\n",
    "        #発言者をスタイルで狙い撃ち。\n",
    "        url_namae = \"#voiceList > li:nth-child(\" + str(kaisu) + \") > button\"\n",
    "        #発言をスタイルで狙い撃ち。\n",
    "        url_voice = \"#formVoiceSelect > ul > li:nth-child(\" + str(kaisu)+ \")\"\n",
    "\n",
    "        #行頭・行末の余計な改行や数字などを削除して整理する。\n",
    "        namae = soup.select_one(url_namae).get_text().replace('\\n' , '' )\n",
    "        voice = soup.select_one(url_voice).get_text().replace(' ', '')\n",
    "        voice_1 = re.sub('^\\n\\n\\n[0-9]{1,3}:\\n', '', voice)\n",
    "        voice_re = re.sub('\\n\\n$', '', voice_1)\n",
    "        \n",
    "        #整理されたデータを箱に入れる。・・・それぞれにデータフレームを作って、くっつけても良かったかも？\n",
    "        df.at[str(kaisu), 'namae']= namae\n",
    "        df.at[str(kaisu), 'voice_re'] = voice_re\n",
    "\n",
    "    except:\n",
    "        pass\n",
    "\n",
    "#csvファイルに出力\n",
    "df.to_csv('to_csv_out.csv',encoding='utf_8_sig')\n",
    "\n",
    "\n",
    "#url = \"#voiceList > li:nth-child(1) > button\"\n",
    "\n",
    "##formVoiceSelect > ul > li:nth-child(1)\n",
    "#namae = soup.select_one('#voiceList > li:nth-child(1) > button')\n",
    "\n",
    "#voice = soup.select_one('#formVoiceSelect > ul > li:nth-child(1)')\n"
   ]
  },
  {
   "cell_type": "code",
   "execution_count": null,
   "metadata": {},
   "outputs": [],
   "source": []
  }
 ],
 "metadata": {
  "interpreter": {
   "hash": "7f7391af35ef882eef7743bc18aca90985026145085afdb8315503700834cf27"
  },
  "kernelspec": {
   "display_name": "Python 3.8.12 64-bit ('3.8.12')",
   "language": "python",
   "name": "python3"
  },
  "language_info": {
   "codemirror_mode": {
    "name": "ipython",
    "version": 3
   },
   "file_extension": ".py",
   "mimetype": "text/x-python",
   "name": "python",
   "nbconvert_exporter": "python",
   "pygments_lexer": "ipython3",
   "version": "3.8.13"
  },
  "orig_nbformat": 4
 },
 "nbformat": 4,
 "nbformat_minor": 2
}
