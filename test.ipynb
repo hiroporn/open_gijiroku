{
 "cells": [
  {
   "cell_type": "code",
   "execution_count": 33,
   "metadata": {},
   "outputs": [
    {
     "name": "stdout",
     "output_type": "stream",
     "text": [
      "完了！\n"
     ]
    }
   ],
   "source": [
    "#coding: UTF-8\n",
    "\n",
    "from bs4 import BeautifulSoup\n",
    "import os\n",
    "import lxml\n",
    "import re\n",
    "import os\n",
    "import pandas as pd\n",
    "\n",
    "#変換するファイル名を指定する。(フォルダーは同じところだけ)\n",
    "filename =  'hogehoge.html'\n",
    "\n",
    "#ファイルの開き方を一般的なものに変更した。\n",
    "with open(os.path.basename(filename), 'rb') as gijiroku_all:\n",
    "    soup = BeautifulSoup(gijiroku_all, \"lxml\")\n",
    "\n",
    "#forで回す回数を、発言者に付いているタグから持ってくる。\n",
    "get_number = soup.find_all(class_ = 'page-text__number VoiceAnchor')\n",
    "\n",
    "#取得したテキストの入れ物を作る。カラムにも名前を付ける。\n",
    "df = pd.DataFrame({'namae':[], 'voice_re':[]})\n",
    "\n",
    "kaisu = 0\n",
    "\n",
    "#発言者のタグから回数を回す。\n",
    "#↓末尾の＋１しないと、「０」からの開始なので１個足りなくなるから付けてやる。\n",
    "for kaisu in range(len(get_number) +1):\n",
    "\n",
    "    try:    #エラーがあったら止まる(はず)\n",
    "        #発言者をスタイルで狙い撃ち。\n",
    "        url_namae = \"#voiceList > li:nth-child(\" + str(kaisu) + \") > button\"\n",
    "        #発言をスタイルで狙い撃ち。\n",
    "        url_voice = \"#formVoiceSelect > ul > li:nth-child(\" + str(kaisu)+ \")\"\n",
    "\n",
    "        #行頭・行末の余計な改行や数字などを削除して整理する。\n",
    "        namae = soup.select_one(url_namae).get_text().replace('\\n' , '' )\n",
    "        voice = soup.select_one(url_voice).get_text().replace(' ', '')\n",
    "        voice_1 = re.sub('^\\n\\n\\n[0-9]{1,3}:\\n', '', voice)\n",
    "        voice_re = re.sub('\\n\\n$', '', voice_1)\n",
    "        \n",
    "        #整理されたデータを箱に入れる。・・・それぞれにデータフレームを作って、くっつけても良かったかも？\n",
    "        df.at[str(kaisu), 'namae']= namae\n",
    "        df.at[str(kaisu), 'voice_re'] = voice_re\n",
    "\n",
    "    except:\n",
    "        pass\n",
    "\n",
    "#csvファイルに出力\n",
    "df.to_csv('_temp.csv',encoding='utf_8_sig')\n",
    "\n",
    "#元のファイル名を利用して、\".CSV\"を付ける。\n",
    "file_newname = filename + '.csv'\n",
    "os.rename( \"_temp.csv\", file_newname)\n",
    "\n",
    "print('完了！')"
   ]
  },
  {
   "cell_type": "code",
   "execution_count": null,
   "metadata": {},
   "outputs": [],
   "source": []
  }
 ],
 "metadata": {
  "interpreter": {
   "hash": "7f7391af35ef882eef7743bc18aca90985026145085afdb8315503700834cf27"
  },
  "kernelspec": {
   "display_name": "Python 3.8.12 64-bit ('3.8.12')",
   "language": "python",
   "name": "python3"
  },
  "language_info": {
   "codemirror_mode": {
    "name": "ipython",
    "version": 3
   },
   "file_extension": ".py",
   "mimetype": "text/x-python",
   "name": "python",
   "nbconvert_exporter": "python",
   "pygments_lexer": "ipython3",
   "version": "3.8.12"
  },
  "orig_nbformat": 4
 },
 "nbformat": 4,
 "nbformat_minor": 2
}
